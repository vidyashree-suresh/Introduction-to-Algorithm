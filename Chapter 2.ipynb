{
 "cells": [
  {
   "cell_type": "code",
   "execution_count": 20,
   "id": "b01f982e",
   "metadata": {},
   "outputs": [
    {
     "name": "stdout",
     "output_type": "stream",
     "text": [
      "[31, 41, 59, 26, 41, 58]\n",
      "Element: 41\n",
      "sorted after i,  1\n",
      "[31, 41, 59, 26, 41, 58]\n",
      "[31, 41, 59, 26, 41, 58]\n",
      "Element: 59\n",
      "sorted after i,  2\n",
      "[31, 41, 59, 26, 41, 58]\n",
      "[31, 41, 59, 26, 41, 58]\n",
      "Element: 26\n",
      "sorted after i,  3\n",
      "[26, 31, 41, 59, 41, 58]\n",
      "[26, 31, 41, 59, 41, 58]\n",
      "Element: 41\n",
      "sorted after i,  4\n",
      "[26, 31, 41, 41, 59, 58]\n",
      "[26, 31, 41, 41, 59, 58]\n",
      "Element: 58\n",
      "sorted after i,  5\n",
      "[26, 31, 41, 41, 58, 59]\n"
     ]
    }
   ],
   "source": [
    "## Inserion sorting in the increasing order\n",
    "import time\n",
    "A=[5,2,4,6,1,3]\n",
    "A=[31,41,59,26,41,58]\n",
    "n=len(A)\n",
    "for i in range(1,n):\n",
    "    print(A)\n",
    "    print(\"Element:\", A[i])\n",
    "    key=A[i]\n",
    "    j=i-1 ## the comparison happens from the present index to all the previous indices\n",
    "    while j>=0 and A[j]>key:# if the adjacent value is lesser than the next one A[0]>A[1] \n",
    "                 A[j+1]=A[j]\n",
    "                 j=j-1\n",
    "    A[j+1]=key\n",
    "    print(\"sorted after i, \",i)\n",
    "    print(A)\n",
    "        \n",
    "        "
   ]
  },
  {
   "cell_type": "code",
   "execution_count": 21,
   "id": "29179e4c",
   "metadata": {
    "scrolled": true
   },
   "outputs": [
    {
     "name": "stdout",
     "output_type": "stream",
     "text": [
      "[31, 41, 59, 26, 41, 58]\n",
      "Element: 41\n",
      "sorted after i,  1\n",
      "[41, 31, 59, 26, 41, 58]\n",
      "[41, 31, 59, 26, 41, 58]\n",
      "Element: 59\n",
      "sorted after i,  2\n",
      "[59, 41, 31, 26, 41, 58]\n",
      "[59, 41, 31, 26, 41, 58]\n",
      "Element: 26\n",
      "sorted after i,  3\n",
      "[59, 41, 31, 26, 41, 58]\n",
      "[59, 41, 31, 26, 41, 58]\n",
      "Element: 41\n",
      "sorted after i,  4\n",
      "[59, 41, 41, 31, 26, 58]\n",
      "[59, 41, 41, 31, 26, 58]\n",
      "Element: 58\n",
      "sorted after i,  5\n",
      "[59, 58, 41, 41, 31, 26]\n"
     ]
    }
   ],
   "source": [
    "## Inserion sorting in the decreasing order\n",
    "import time\n",
    "A=[31,41,59,26,41,58]\n",
    "n=len(A)\n",
    "for i in range(1,n):\n",
    "    key=A[i]\n",
    "    j=i-1 ## the comparison happens from the present index to all the previous indices\n",
    "    while j>=0 and A[j]<key:# if the adjacent value is lesser than the next one A[0]>A[1] \n",
    "                 A[j+1]=A[j]\n",
    "                 j=j-1\n",
    "    A[j+1]=key\n",
    "    print(\"sorted after i, \",i)\n",
    "    print(A)\n",
    "        \n",
    "        "
   ]
  },
  {
   "cell_type": "code",
   "execution_count": null,
   "id": "038d9f90",
   "metadata": {},
   "outputs": [],
   "source": []
  }
 ],
 "metadata": {
  "kernelspec": {
   "display_name": "Python 3 (ipykernel)",
   "language": "python",
   "name": "python3"
  },
  "language_info": {
   "codemirror_mode": {
    "name": "ipython",
    "version": 3
   },
   "file_extension": ".py",
   "mimetype": "text/x-python",
   "name": "python",
   "nbconvert_exporter": "python",
   "pygments_lexer": "ipython3",
   "version": "3.9.5"
  },
  "toc": {
   "base_numbering": 1,
   "nav_menu": {},
   "number_sections": true,
   "sideBar": true,
   "skip_h1_title": false,
   "title_cell": "Table of Contents",
   "title_sidebar": "Contents",
   "toc_cell": false,
   "toc_position": {},
   "toc_section_display": true,
   "toc_window_display": false
  },
  "varInspector": {
   "cols": {
    "lenName": 16,
    "lenType": 16,
    "lenVar": 40
   },
   "kernels_config": {
    "python": {
     "delete_cmd_postfix": "",
     "delete_cmd_prefix": "del ",
     "library": "var_list.py",
     "varRefreshCmd": "print(var_dic_list())"
    },
    "r": {
     "delete_cmd_postfix": ") ",
     "delete_cmd_prefix": "rm(",
     "library": "var_list.r",
     "varRefreshCmd": "cat(var_dic_list()) "
    }
   },
   "types_to_exclude": [
    "module",
    "function",
    "builtin_function_or_method",
    "instance",
    "_Feature"
   ],
   "window_display": false
  }
 },
 "nbformat": 4,
 "nbformat_minor": 5
}
